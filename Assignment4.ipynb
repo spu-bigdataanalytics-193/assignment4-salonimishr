{
  "nbformat": 4,
  "nbformat_minor": 0,
  "metadata": {
    "colab": {
      "name": "Assignment_4",
      "provenance": [],
      "collapsed_sections": [],
      "machine_shape": "hm"
    },
    "kernelspec": {
      "name": "python3",
      "display_name": "Python 3"
    }
  },
  "cells": [
    {
      "cell_type": "markdown",
      "metadata": {
        "id": "857VYV8tIAUC",
        "colab_type": "text"
      },
      "source": [
        "Spark Environment"
      ]
    },
    {
      "cell_type": "code",
      "metadata": {
        "id": "JqoqNnP5Zd6A",
        "colab_type": "code",
        "colab": {}
      },
      "source": [
        "# install java libs and spark.\n",
        "! apt-get install openjdk-8-jdk-headless -qq > /dev/null\n",
        "! wget -q https://www-us.apache.org/dist/spark/spark-2.4.4/spark-2.4.4-bin-hadoop2.7.tgz\n",
        "! tar xf spark-2.4.4-bin-hadoop2.7.tgz\n",
        "! pip install -q findspark\n",
        "import os\n",
        "os.environ[\"JAVA_HOME\"] = \"/usr/lib/jvm/java-8-openjdk-amd64\"\n",
        "os.environ[\"SPARK_HOME\"] = \"/content/spark-2.4.4-bin-hadoop2.7\"\n"
      ],
      "execution_count": 0,
      "outputs": []
    },
    {
      "cell_type": "markdown",
      "metadata": {
        "id": "HnJ0ATm6IMwf",
        "colab_type": "text"
      },
      "source": [
        "**Mounting Drive**\n"
      ]
    },
    {
      "cell_type": "code",
      "metadata": {
        "id": "-O9Uic5Nonk5",
        "colab_type": "code",
        "colab": {
          "base_uri": "https://localhost:8080/",
          "height": 124
        },
        "outputId": "cadab909-0fc5-4c59-9051-3f19aa06cf5c"
      },
      "source": [
        "from google.colab import drive\n",
        "drive.mount('/content/gdrive')"
      ],
      "execution_count": 15,
      "outputs": [
        {
          "output_type": "stream",
          "text": [
            "Go to this URL in a browser: https://accounts.google.com/o/oauth2/auth?client_id=947318989803-6bn6qk8qdgf4n4g3pfee6491hc0brc4i.apps.googleusercontent.com&redirect_uri=urn%3aietf%3awg%3aoauth%3a2.0%3aoob&response_type=code&scope=email%20https%3a%2f%2fwww.googleapis.com%2fauth%2fdocs.test%20https%3a%2f%2fwww.googleapis.com%2fauth%2fdrive%20https%3a%2f%2fwww.googleapis.com%2fauth%2fdrive.photos.readonly%20https%3a%2f%2fwww.googleapis.com%2fauth%2fpeopleapi.readonly\n",
            "\n",
            "Enter your authorization code:\n",
            "··········\n",
            "Mounted at /content/gdrive\n"
          ],
          "name": "stdout"
        }
      ]
    },
    {
      "cell_type": "markdown",
      "metadata": {
        "id": "8dKO_jVNIV4D",
        "colab_type": "text"
      },
      "source": [
        "**Util Program**\n"
      ]
    },
    {
      "cell_type": "code",
      "metadata": {
        "id": "Y5EYkXePaP_z",
        "colab_type": "code",
        "colab": {}
      },
      "source": [
        "import sys\n",
        "\n",
        "\n",
        "def progressbar(total, progress, prefix=\"\"):\n",
        "    \"\"\"\n",
        "    Displays or updates a console progress bar.\n",
        "    Original source: https://stackoverflow.com/a/15860757/1391441\n",
        "    \"\"\"\n",
        "    barLength, status = 20, \"\"\n",
        "    progress = float(progress) / float(total)\n",
        "    if progress >= 1.:\n",
        "        progress, status = 1, \"\\r\\n\"\n",
        "    block = int(round(barLength * progress))\n",
        "    text = \"\\r{} [{}] {:.0f}% {}\".format(\n",
        "        prefix, \"#\" * block + \"-\" * (barLength - block), round(progress * 100, 0),\n",
        "        status)\n",
        "    sys.stdout.write(text)\n",
        "    sys.stdout.flush()"
      ],
      "execution_count": 0,
      "outputs": []
    },
    {
      "cell_type": "markdown",
      "metadata": {
        "id": "Ra4uy6KzIbO8",
        "colab_type": "text"
      },
      "source": [
        "**Data_handler Program**\n"
      ]
    },
    {
      "cell_type": "code",
      "metadata": {
        "id": "SPkfs5U1azkq",
        "colab_type": "code",
        "colab": {}
      },
      "source": [
        "import os\n",
        "import glob\n",
        "import shutil\n",
        "import urllib3\n",
        "import functools\n",
        "import pandas as pd\n",
        "\n",
        "\n",
        "\n",
        "DATA_SOURCE = 'http://www.rdatasciencecases.org/Data/Airline/'\n",
        "DATA_DIR = os.path.join('data')\n",
        "\n",
        "\n",
        "def download_handler(file_path, data_url):\n",
        "    \"\"\"\n",
        "    downloads the data from stat computing website.\n",
        "    \"\"\"\n",
        "\n",
        "    with urllib3.PoolManager().request('GET', data_url, preload_content=False) as r:\n",
        "        if r.status == 200:\n",
        "            with open(file_path, 'wb') as w:\n",
        "                shutil.copyfileobj(r, w)\n",
        "        else:\n",
        "            print('internet connection error.')\n",
        "\n",
        "\n",
        "def check_dataset():\n",
        "    file_list = []\n",
        "    for year in range(1987, 2009):\n",
        "        file_path = '{}/raw_{}.csv.bz2'.format(DATA_DIR, year)\n",
        "        file_list.append(file_path)\n",
        "\n",
        "    if not any(map(os.path.exists, file_list)):\n",
        "        return True\n",
        "    else:\n",
        "        return False\n",
        "\n",
        "\n",
        "def download_dataset():\n",
        "    \"\"\"\n",
        "    download all the years of flight data into data folder\n",
        "    \"\"\"\n",
        "    if check_dataset():\n",
        "\n",
        "        if not os.path.exists(DATA_DIR):\n",
        "            os.mkdir(DATA_DIR)\n",
        "\n",
        "        year_range = range(1987, 2009)\n",
        "        for ind, year in enumerate(year_range):\n",
        "            # vars\n",
        "            data_url = '{}/{}.csv.bz2'.format(DATA_SOURCE, year)\n",
        "            file_path = '{}/raw_{}.csv.bz2'.format(DATA_DIR, year)\n",
        "\n",
        "            # download\n",
        "            download_handler(file_path, data_url)\n",
        "            \n",
        "            # progress\n",
        "            progressbar(len(year_range), ind + 1, 'download status: ')\n",
        "    else:\n",
        "        print('data downloaded. you can skip this step or delete data folder to download again.')\n",
        "\n",
        "\n",
        "def read_as_dataframe():\n",
        "    \"\"\"\n",
        "    Read all files into one single dataframe.\n",
        "    PS: this should work, unfortunately, my computer is slow to load all into one. \n",
        "    I didn't try this code, but if this works, you only need to loop for the rows.\n",
        "    \"\"\"\n",
        "    par_func = functools.partial(pd.read_csv, compression='bz2', encoding='ISO-8859-1', memory_map=True)\n",
        "    file_list = glob.glob(os.path.join(DATA_DIR, '*.csv.bz2'))\n",
        "    df = pd.concat(map(par_func, file_list))\n",
        "\n",
        "    return df\n"
      ],
      "execution_count": 0,
      "outputs": []
    },
    {
      "cell_type": "markdown",
      "metadata": {
        "id": "D98aEEi3IfdN",
        "colab_type": "text"
      },
      "source": [
        "**Importing Librarie**s\n"
      ]
    },
    {
      "cell_type": "code",
      "metadata": {
        "id": "qrjaVcpEbKAK",
        "colab_type": "code",
        "colab": {}
      },
      "source": [
        "import os\n",
        "import glob\n",
        "import pandas as pd\n",
        "import functools\n",
        "import numpy as np\n",
        "from functools import reduce\n",
        "from itertools import groupby"
      ],
      "execution_count": 0,
      "outputs": []
    },
    {
      "cell_type": "markdown",
      "metadata": {
        "id": "7bzTAkguImkX",
        "colab_type": "text"
      },
      "source": [
        "**Downloading** **Dataset**\n"
      ]
    },
    {
      "cell_type": "code",
      "metadata": {
        "id": "3qnTOB5pbRP8",
        "colab_type": "code",
        "outputId": "889ccb8c-97b7-4119-a68d-93a30b88fc2e",
        "colab": {
          "base_uri": "https://localhost:8080/",
          "height": 35
        }
      },
      "source": [
        "download_dataset()"
      ],
      "execution_count": 20,
      "outputs": [
        {
          "output_type": "stream",
          "text": [
            "download status:  [####################] 100% \n"
          ],
          "name": "stdout"
        }
      ]
    },
    {
      "cell_type": "code",
      "metadata": {
        "id": "G4QlwUP-bgyC",
        "colab_type": "code",
        "outputId": "f9e2dbfc-36a6-4770-8a1c-2daa334a3196",
        "colab": {
          "base_uri": "https://localhost:8080/",
          "height": 35
        }
      },
      "source": [
        "import os\n",
        "os.getcwd()"
      ],
      "execution_count": 31,
      "outputs": [
        {
          "output_type": "execute_result",
          "data": {
            "text/plain": [
              "'/content'"
            ]
          },
          "metadata": {
            "tags": []
          },
          "execution_count": 31
        }
      ]
    },
    {
      "cell_type": "markdown",
      "metadata": {
        "id": "AwLirIIqJDY3",
        "colab_type": "text"
      },
      "source": [
        "**Creating & Sorting data files**\n",
        "\n",
        "Funtion glob.glob is used to list the data files with their full path and then got sorted by year."
      ]
    },
    {
      "cell_type": "code",
      "metadata": {
        "id": "_fv_s8lwiml_",
        "colab_type": "code",
        "colab": {}
      },
      "source": [
        "\n",
        "# all files under data folder\n",
        "file_list = sorted(glob.glob(os.path.join('data', '*.csv.bz2')))"
      ],
      "execution_count": 0,
      "outputs": []
    },
    {
      "cell_type": "code",
      "metadata": {
        "id": "g05kTgidiuLE",
        "colab_type": "code",
        "colab": {}
      },
      "source": [
        "\n",
        "carrier_counts = {}"
      ],
      "execution_count": 0,
      "outputs": []
    },
    {
      "cell_type": "markdown",
      "metadata": {
        "id": "ng-LowIfJNob",
        "colab_type": "text"
      },
      "source": [
        "**Loading the data as dataframe**\n",
        "\n",
        "The whole data which is stored in 22 data files in zip format(.bz2) consists of the size of 12gb. The system random access memory was limited and do not allow to load the complete data. As suggested, only the data important for map reduce is loaded to surpass the difficulty."
      ]
    },
    {
      "cell_type": "code",
      "metadata": {
        "id": "IfLvBRVDnHTR",
        "colab_type": "code",
        "colab": {}
      },
      "source": [
        "df1 = pd.DataFrame()\n",
        "for ind, data_file in enumerate(file_list):\n",
        "    # read current data\n",
        "    df = pd.DataFrame(pd.read_csv(data_file, encoding='ISO-8859-1', memory_map=True, low_memory=False, usecols=['Year', 'UniqueCarrier']))\n",
        "    df1=df1.append(df)"
      ],
      "execution_count": 0,
      "outputs": []
    },
    {
      "cell_type": "markdown",
      "metadata": {
        "id": "9j-D0lkgJXQg",
        "colab_type": "text"
      },
      "source": [
        "\n",
        "**Running the job without map reduce**\n",
        "\n",
        "The Unique Carrier and their frequency is obtained without using map reduce algorithm."
      ]
    },
    {
      "cell_type": "code",
      "metadata": {
        "colab_type": "code",
        "outputId": "2638914a-a7b3-4e69-d903-c5b55ca66d81",
        "id": "0ANTMzLK0M_q",
        "colab": {
          "base_uri": "https://localhost:8080/",
          "height": 35
        }
      },
      "source": [
        "for ind, data_file in enumerate(file_list):\n",
        "    # read current data\n",
        "    df = pd.read_csv(data_file, encoding='ISO-8859-1', memory_map=True, low_memory=False)\n",
        "    \n",
        "    # unique airlines in dataset\n",
        "    carriers = df.UniqueCarrier.unique()\n",
        "    \n",
        "    # update the global carrier_count\n",
        "    for key in carriers:\n",
        "        if key not in carrier_counts:\n",
        "            carrier_counts.update({key: 0})\n",
        "    \n",
        "    # loop through each row in dataframe \n",
        "    for carrier in df.UniqueCarrier:\n",
        "        carrier_counts[carrier] += 1\n",
        "\n",
        "    # info \n",
        "    prefix ='Shape: {} ; {} Mb'.format(\n",
        "        df.shape, round(df.memory_usage().sum() / 1e+6,2))\n",
        "    \n",
        "    # track the progress\n",
        "    progressbar(len(file_list), ind + 1, prefix=prefix)"
      ],
      "execution_count": 29,
      "outputs": [
        {
          "output_type": "stream",
          "text": [
            "Shape: (7009728, 29) ; 1626.26 Mb [####################] 100% \n"
          ],
          "name": "stdout"
        }
      ]
    },
    {
      "cell_type": "markdown",
      "metadata": {
        "id": "rzNfofTsNA6f",
        "colab_type": "text"
      },
      "source": [
        "For loading data, first I used above program but it was loading only 7009728 observations so I used below program that loaded 123534969 observations."
      ]
    },
    {
      "cell_type": "markdown",
      "metadata": {
        "id": "7NIcq37hM_89",
        "colab_type": "text"
      },
      "source": [
        ""
      ]
    },
    {
      "cell_type": "code",
      "metadata": {
        "id": "k3YO-Lchvlyz",
        "colab_type": "code",
        "colab": {
          "base_uri": "https://localhost:8080/",
          "height": 69
        },
        "outputId": "6fde8088-2922-4b19-8dde-87c0c1ae81bf"
      },
      "source": [
        "%%time\n",
        "carrier_counts = {}\n",
        "# unique airlines in dataset\n",
        "carriers = df1.UniqueCarrier.unique()\n",
        "    \n",
        "    # update the global carrier_count\n",
        "for key in carriers:\n",
        "    if key not in carrier_counts:\n",
        "        carrier_counts.update({key: 0})\n",
        "    \n",
        "# loop through each row in dataframe \n",
        "for carrier in df1.UniqueCarrier:\n",
        "    carrier_counts[carrier] += 1\n",
        "\n",
        "# info \n",
        "prefix ='Shape: {} ; {} Mb'.format(\n",
        "        df1.shape, round(df.memory_usage().sum() / 1e+6,2))\n",
        "    \n",
        "# track the progress\n",
        "progressbar(len(file_list), ind + 1, prefix=prefix)"
      ],
      "execution_count": 24,
      "outputs": [
        {
          "output_type": "stream",
          "text": [
            "\rShape: (123534969, 2) ; 112.16 Mb [####################] 100% \r\n",
            "CPU times: user 27.9 s, sys: 33 ms, total: 27.9 s\n",
            "Wall time: 27.9 s\n"
          ],
          "name": "stdout"
        }
      ]
    },
    {
      "cell_type": "code",
      "metadata": {
        "id": "0H3pcsJUmw9H",
        "colab_type": "code",
        "colab": {
          "base_uri": "https://localhost:8080/",
          "height": 555
        },
        "outputId": "628bb0c8-3edd-4003-e756-87ebcc7d6c81"
      },
      "source": [
        "%%time\n",
        "carrier_counts"
      ],
      "execution_count": 40,
      "outputs": [
        {
          "output_type": "stream",
          "text": [
            "CPU times: user 3 µs, sys: 1e+03 ns, total: 4 µs\n",
            "Wall time: 5.48 µs\n"
          ],
          "name": "stdout"
        },
        {
          "output_type": "execute_result",
          "data": {
            "text/plain": [
              "{'9E': 521059,\n",
              " 'AA': 14984647,\n",
              " 'AQ': 154381,\n",
              " 'AS': 2878021,\n",
              " 'B6': 811341,\n",
              " 'CO': 8145788,\n",
              " 'DH': 693047,\n",
              " 'DL': 16547870,\n",
              " 'EA': 919785,\n",
              " 'EV': 1697172,\n",
              " 'F9': 336958,\n",
              " 'FL': 1265138,\n",
              " 'HA': 274265,\n",
              " 'HP': 3636682,\n",
              " 'ML (1)': 70622,\n",
              " 'MQ': 3954895,\n",
              " 'NW': 10292627,\n",
              " 'OH': 1464176,\n",
              " 'OO': 3090853,\n",
              " 'PA (1)': 316167,\n",
              " 'PI': 873957,\n",
              " 'PS': 83617,\n",
              " 'TW': 3757747,\n",
              " 'TZ': 208420,\n",
              " 'UA': 13299817,\n",
              " 'US': 14075530,\n",
              " 'WN': 15976022,\n",
              " 'XE': 2350309,\n",
              " 'YV': 854056}"
            ]
          },
          "metadata": {
            "tags": []
          },
          "execution_count": 40
        }
      ]
    },
    {
      "cell_type": "markdown",
      "metadata": {
        "id": "pw3nRDkwJtIm",
        "colab_type": "text"
      },
      "source": [
        "**Map Reduce way**\n",
        "\n",
        "Map reduce way - map, reduce and sort, and collect way to count the flights"
      ]
    },
    {
      "cell_type": "code",
      "metadata": {
        "id": "es1BI9Ky7Gew",
        "colab_type": "code",
        "colab": {}
      },
      "source": [
        "carriers = df1.UniqueCarrier"
      ],
      "execution_count": 0,
      "outputs": []
    },
    {
      "cell_type": "markdown",
      "metadata": {
        "id": "jkIsD26ZJ4nF",
        "colab_type": "text"
      },
      "source": [
        "**Map Phase**\n",
        "\n",
        "For each line of flight data, I extracted the carrier code and make a key value pair."
      ]
    },
    {
      "cell_type": "code",
      "metadata": {
        "id": "SY3ma6s_mxBJ",
        "colab_type": "code",
        "colab": {
          "base_uri": "https://localhost:8080/",
          "height": 52
        },
        "outputId": "22ba93a4-9712-4236-ce75-f970ceef6c92"
      },
      "source": [
        "%%time\n",
        "mapping=map((lambda x: (x, 1)), carriers)"
      ],
      "execution_count": 26,
      "outputs": [
        {
          "output_type": "stream",
          "text": [
            "CPU times: user 76 µs, sys: 2 µs, total: 78 µs\n",
            "Wall time: 83.7 µs\n"
          ],
          "name": "stdout"
        }
      ]
    },
    {
      "cell_type": "markdown",
      "metadata": {
        "id": "Dmgs9iP5KHIU",
        "colab_type": "text"
      },
      "source": [
        "**Shuffle and Sort Phase**\n"
      ]
    },
    {
      "cell_type": "code",
      "metadata": {
        "id": "oardCJXe1MSz",
        "colab_type": "code",
        "colab": {
          "base_uri": "https://localhost:8080/",
          "height": 52
        },
        "outputId": "06c2a3b6-b1c5-4fcd-be87-1cb10db9d017"
      },
      "source": [
        "%%time\n",
        "sorted_mapping=sorted(mapping)\n"
      ],
      "execution_count": 27,
      "outputs": [
        {
          "output_type": "stream",
          "text": [
            "CPU times: user 26.8 s, sys: 5.23 s, total: 32 s\n",
            "Wall time: 32.1 s\n"
          ],
          "name": "stdout"
        }
      ]
    },
    {
      "cell_type": "markdown",
      "metadata": {
        "id": "m8PFbLPUKR59",
        "colab_type": "text"
      },
      "source": [
        "**Reduce Phase**"
      ]
    },
    {
      "cell_type": "code",
      "metadata": {
        "id": "QTcUm_Wp1TGg",
        "colab_type": "code",
        "colab": {
          "base_uri": "https://localhost:8080/",
          "height": 89
        },
        "outputId": "16e31dab-7a46-4611-ece3-16e8eca30f13"
      },
      "source": [
        "%%time\n",
        "grouper=groupby(sorted_mapping, lambda p:p[0])\n",
        "final=map(lambda l: (l[0], reduce(lambda x, y:x+y,map(lambda p: p[1], l[1]))), grouper)\n",
        "print(list(final))"
      ],
      "execution_count": 28,
      "outputs": [
        {
          "output_type": "stream",
          "text": [
            "[('9E', 521059), ('AA', 14984647), ('AQ', 154381), ('AS', 2878021), ('B6', 811341), ('CO', 8145788), ('DH', 693047), ('DL', 16547870), ('EA', 919785), ('EV', 1697172), ('F9', 336958), ('FL', 1265138), ('HA', 274265), ('HP', 3636682), ('ML (1)', 70622), ('MQ', 3954895), ('NW', 10292627), ('OH', 1464176), ('OO', 3090853), ('PA (1)', 316167), ('PI', 873957), ('PS', 83617), ('TW', 3757747), ('TZ', 208420), ('UA', 13299817), ('US', 14075530), ('WN', 15976022), ('XE', 2350309), ('YV', 854056)]\n",
            "CPU times: user 34.3 s, sys: 2.99 ms, total: 34.3 s\n",
            "Wall time: 34.3 s\n"
          ],
          "name": "stdout"
        }
      ]
    },
    {
      "cell_type": "markdown",
      "metadata": {
        "id": "sUH-sH0ENeSj",
        "colab_type": "text"
      },
      "source": [
        "**Conclusion**\n",
        "\n",
        "In this assignment, I used Spark in Google Colab to do the mapreduce way. "
      ]
    }
  ]
}