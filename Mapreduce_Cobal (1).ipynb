{
 "cells": [
  {
   "cell_type": "markdown",
   "metadata": {
    "colab_type": "text",
    "id": "UPo7PsMWKds2"
   },
   "source": [
    "**INITIALIZING**"
   ]
  },
  {
   "cell_type": "code",
   "execution_count": 0,
   "metadata": {
    "colab": {
     "base_uri": "https://localhost:8080/",
     "height": 52
    },
    "colab_type": "code",
    "id": "p7m4Ep6x2zc0",
    "outputId": "6af0189d-c919-4aa4-c929-8fe2fb0dea47"
   },
   "outputs": [
    {
     "name": "stdout",
     "output_type": "stream",
     "text": [
      "Requirement already satisfied: pyspark in /usr/local/lib/python3.6/dist-packages (2.4.4)\n",
      "Requirement already satisfied: py4j==0.10.7 in /usr/local/lib/python3.6/dist-packages (from pyspark) (0.10.7)\n"
     ]
    }
   ],
   "source": [
    "# install java libs and spark.\n",
    "! apt-get install openjdk-8-jdk-headless -qq > /dev/null\n",
    "! wget -q https://www-us.apache.org/dist/spark/spark-2.4.4/spark-2.4.4-bin-hadoop2.7.tgz\n",
    "! tar xf spark-2.4.4-bin-hadoop2.7.tgz\n",
    "! pip install -q findspark\n",
    "!pip install pyspark\n",
    "import os\n",
    "os.environ[\"JAVA_HOME\"] = \"/usr/lib/jvm/java-8-openjdk-amd64\"\n",
    "os.environ[\"SPARK_HOME\"] = \"/content/spark-2.4.4-bin-hadoop2.7\""
   ]
  },
  {
   "cell_type": "markdown",
   "metadata": {
    "colab_type": "text",
    "id": "O-vyWW4LKmxr"
   },
   "source": [
    "**MOUNTING DRIVE**"
   ]
  },
  {
   "cell_type": "code",
   "execution_count": 0,
   "metadata": {
    "colab": {
     "base_uri": "https://localhost:8080/",
     "height": 35
    },
    "colab_type": "code",
    "id": "wU6ilJNv3HRa",
    "outputId": "30e9e8de-6b22-499f-e957-0425287ad236"
   },
   "outputs": [
    {
     "name": "stdout",
     "output_type": "stream",
     "text": [
      "Drive already mounted at /content/gdrive; to attempt to forcibly remount, call drive.mount(\"/content/gdrive\", force_remount=True).\n"
     ]
    }
   ],
   "source": [
    "# Point Colaboratory to Google Drive\n",
    "\n",
    "from google.colab import drive\n",
    "drive.mount('/content/gdrive')"
   ]
  },
  {
   "cell_type": "markdown",
   "metadata": {
    "colab_type": "text",
    "id": "nT0lvQLSLbHq"
   },
   "source": [
    "DOWNLOADING DATASETS"
   ]
  },
  {
   "cell_type": "code",
   "execution_count": 0,
   "metadata": {
    "colab": {},
    "colab_type": "code",
    "id": "tK-N4Mw9Ksp_"
   },
   "outputs": [],
   "source": [
    "# Download datasets directly to your Google Drive \"Colab Datasets\" folder\n",
    "\n",
    "import requests\n",
    "\n",
    "# ALL data\n",
    "\n",
    "file_url = \"http://www.rdatasciencecases.org/Data/Airline/1987.csv.bz2\"\n",
    "\n",
    "r = requests.get(file_url, stream = True) \n",
    "\n",
    "with open(\"/content/gdrive/My Drive/Colab_Dataset/2008.csv.bz2\", \"wb\") as file: \n",
    "\tfor block in r.iter_content(chunk_size = 1024): \n",
    "\t\tif block: \n",
    "\t\t\tfile.write(block)"
   ]
  },
  {
   "cell_type": "markdown",
   "metadata": {
    "colab_type": "text",
    "id": "UtoZa7_4Ljdr"
   },
   "source": [
    "**IMPORTING PYSPARK SESSION**"
   ]
  },
  {
   "cell_type": "code",
   "execution_count": 0,
   "metadata": {
    "colab": {},
    "colab_type": "code",
    "id": "d5RvpspI3O1V"
   },
   "outputs": [],
   "source": [
    "from pyspark import SparkContext\n",
    "from pyspark.sql import SparkSession\n",
    "\n",
    "from pyspark.sql.functions import isnan, when, count, col\n",
    "# Set up constants\n",
    "\n",
    "APP_NAME = \"Flight Delays\"\n",
    "SPARK_URL = \"local[*]\""
   ]
  },
  {
   "cell_type": "code",
   "execution_count": 0,
   "metadata": {
    "colab": {},
    "colab_type": "code",
    "id": "Xt2kv_6-3VZO"
   },
   "outputs": [],
   "source": [
    "spark = SparkSession.builder.appName(APP_NAME).master(SPARK_URL).getOrCreate()"
   ]
  },
  {
   "cell_type": "markdown",
   "metadata": {
    "colab_type": "text",
    "id": "HAo_MOowLv09"
   },
   "source": [
    "**READING DATA FILES AND RETURNING RDD**"
   ]
  },
  {
   "cell_type": "code",
   "execution_count": 0,
   "metadata": {
    "colab": {
     "base_uri": "https://localhost:8080/",
     "height": 211
    },
    "colab_type": "code",
    "id": "zqjLhcrP3YqO",
    "outputId": "90eeb6dc-4b05-43ff-8e63-d7986a2f8250"
   },
   "outputs": [
    {
     "data": {
      "text/plain": [
       "['Year,Month,DayofMonth,DayOfWeek,DepTime,CRSDepTime,ArrTime,CRSArrTime,UniqueCarrier,FlightNum,TailNum,ActualElapsedTime,CRSElapsedTime,AirTime,ArrDelay,DepDelay,Origin,Dest,Distance,TaxiIn,TaxiOut,Cancelled,CancellationCode,Diverted,CarrierDelay,WeatherDelay,NASDelay,SecurityDelay,LateAircraftDelay',\n",
       " '1987,10,14,3,741,730,912,849,PS,1451,NA,91,79,NA,23,11,SAN,SFO,447,NA,NA,0,NA,0,NA,NA,NA,NA,NA',\n",
       " '1987,10,15,4,729,730,903,849,PS,1451,NA,94,79,NA,14,-1,SAN,SFO,447,NA,NA,0,NA,0,NA,NA,NA,NA,NA',\n",
       " '1987,10,17,6,741,730,918,849,PS,1451,NA,97,79,NA,29,11,SAN,SFO,447,NA,NA,0,NA,0,NA,NA,NA,NA,NA',\n",
       " '1987,10,18,7,729,730,847,849,PS,1451,NA,78,79,NA,-2,-1,SAN,SFO,447,NA,NA,0,NA,0,NA,NA,NA,NA,NA',\n",
       " '1987,10,19,1,749,730,922,849,PS,1451,NA,93,79,NA,33,19,SAN,SFO,447,NA,NA,0,NA,0,NA,NA,NA,NA,NA',\n",
       " '1987,10,21,3,728,730,848,849,PS,1451,NA,80,79,NA,-1,-2,SAN,SFO,447,NA,NA,0,NA,0,NA,NA,NA,NA,NA',\n",
       " '1987,10,22,4,728,730,852,849,PS,1451,NA,84,79,NA,3,-2,SAN,SFO,447,NA,NA,0,NA,0,NA,NA,NA,NA,NA',\n",
       " '1987,10,23,5,731,730,902,849,PS,1451,NA,91,79,NA,13,1,SAN,SFO,447,NA,NA,0,NA,0,NA,NA,NA,NA,NA',\n",
       " '1987,10,24,6,744,730,908,849,PS,1451,NA,84,79,NA,19,14,SAN,SFO,447,NA,NA,0,NA,0,NA,NA,NA,NA,NA']"
      ]
     },
     "execution_count": 15,
     "metadata": {
      "tags": []
     },
     "output_type": "execute_result"
    }
   ],
   "source": [
    "sc = spark.sparkContext\n",
    "rdd = sc.textFile('/content/gdrive/My Drive/Colab_Dataset//*.csv.bz2')\n",
    "rdd.take(10)"
   ]
  },
  {
   "cell_type": "markdown",
   "metadata": {
    "colab_type": "text",
    "id": "UpTLMZBGMrfF"
   },
   "source": [
    "**TOTAL NUMBER OF COUNTS**"
   ]
  },
  {
   "cell_type": "code",
   "execution_count": 0,
   "metadata": {
    "colab": {
     "base_uri": "https://localhost:8080/",
     "height": 35
    },
    "colab_type": "code",
    "id": "4HUsERcI9lJP",
    "outputId": "9b7453f3-43e9-4c03-f405-c5164250a6df"
   },
   "outputs": [
    {
     "data": {
      "text/plain": [
       "123534991"
      ]
     },
     "execution_count": 47,
     "metadata": {
      "tags": []
     },
     "output_type": "execute_result"
    }
   ],
   "source": [
    "rdd.count()"
   ]
  },
  {
   "cell_type": "markdown",
   "metadata": {
    "colab_type": "text",
    "id": "weqAuBdeMyrY"
   },
   "source": [
    "**REMOVING HEADER**"
   ]
  },
  {
   "cell_type": "code",
   "execution_count": 0,
   "metadata": {
    "colab": {
     "base_uri": "https://localhost:8080/",
     "height": 52
    },
    "colab_type": "code",
    "id": "jGfcH22K3a14",
    "outputId": "511776fe-b094-4616-df30-111792da9758"
   },
   "outputs": [
    {
     "data": {
      "text/plain": [
       "['1987,10,14,3,741,730,912,849,PS,1451,NA,91,79,NA,23,11,SAN,SFO,447,NA,NA,0,NA,0,NA,NA,NA,NA,NA',\n",
       " '1987,10,15,4,729,730,903,849,PS,1451,NA,94,79,NA,14,-1,SAN,SFO,447,NA,NA,0,NA,0,NA,NA,NA,NA,NA']"
      ]
     },
     "execution_count": 6,
     "metadata": {
      "tags": []
     },
     "output_type": "execute_result"
    }
   ],
   "source": [
    "header = rdd.first()\n",
    "rdd2=rdd.filter(lambda line: line != header)\n",
    "rdd2.take(2)"
   ]
  },
  {
   "cell_type": "markdown",
   "metadata": {
    "colab_type": "text",
    "id": "YUBF4FZ2M7hG"
   },
   "source": [
    "**SELECTING UNIQUECARRIERS**"
   ]
  },
  {
   "cell_type": "code",
   "execution_count": 0,
   "metadata": {
    "colab": {},
    "colab_type": "code",
    "id": "47QHRc2-3fQd"
   },
   "outputs": [],
   "source": [
    "rdd3= rdd2.map(lambda x: x.split(',')[8])\n"
   ]
  },
  {
   "cell_type": "code",
   "execution_count": 0,
   "metadata": {
    "colab": {
     "base_uri": "https://localhost:8080/",
     "height": 35
    },
    "colab_type": "code",
    "id": "9JTwnxcA4LLi",
    "outputId": "794eb070-a113-45e0-b27c-c8e653bebf98"
   },
   "outputs": [
    {
     "data": {
      "text/plain": [
       "['PI', 'PI', 'PI', 'PI', 'PI', 'PI', 'PI', 'PI', 'PI', 'PI']"
      ]
     },
     "execution_count": 50,
     "metadata": {
      "tags": []
     },
     "output_type": "execute_result"
    }
   ],
   "source": [
    "rdd3.take(10)"
   ]
  },
  {
   "cell_type": "markdown",
   "metadata": {
    "colab_type": "text",
    "id": "sQUXn24TNBjb"
   },
   "source": [
    "**IMPLEMETING MAPREDUCE**"
   ]
  },
  {
   "cell_type": "code",
   "execution_count": 0,
   "metadata": {
    "colab": {},
    "colab_type": "code",
    "id": "b58Eq7PY44WX"
   },
   "outputs": [],
   "source": [
    "rdd4=rdd3.map(lambda a:(a,1)).reduceByKey(lambda a,b: a+b)"
   ]
  },
  {
   "cell_type": "code",
   "execution_count": 19,
   "metadata": {
    "colab": {
     "base_uri": "https://localhost:8080/",
     "height": 520
    },
    "colab_type": "code",
    "id": "P7hAI0NJ48XV",
    "outputId": "de560201-321a-42e0-d7eb-4c5b72d3aeb5"
   },
   "outputs": [
    {
     "data": {
      "text/plain": [
       "[('MQ', 3954895),\n",
       " ('PI', 873957),\n",
       " ('XE', 2350309),\n",
       " ('AQ', 154381),\n",
       " ('AA', 14984647),\n",
       " ('PS', 83617),\n",
       " ('AS', 2878021),\n",
       " ('DL', 16547870),\n",
       " ('UA', 13299817),\n",
       " ('FL', 1265138),\n",
       " ('NW', 10292627),\n",
       " ('DH', 693047),\n",
       " ('EA', 919785),\n",
       " ('HA', 274265),\n",
       " ('F9', 336958),\n",
       " ('WN', 15976022),\n",
       " ('PA (1)', 316167),\n",
       " ('US', 14075530),\n",
       " ('HP', 3636682),\n",
       " ('CO', 8145788),\n",
       " ('OO', 3090853),\n",
       " ('TZ', 208420),\n",
       " ('B6', 811341),\n",
       " ('OH', 1464176),\n",
       " ('ML (1)', 70622),\n",
       " ('TW', 3757747),\n",
       " ('EV', 1697172),\n",
       " ('YV', 854056),\n",
       " ('9E', 521059)]"
      ]
     },
     "execution_count": 19,
     "metadata": {
      "tags": []
     },
     "output_type": "execute_result"
    }
   ],
   "source": [
    "rdd4.take(30)"
   ]
  }
 ],
 "metadata": {
  "colab": {
   "name": "ASSIGNMENT4.ipynb",
   "provenance": []
  },
  "kernelspec": {
   "display_name": "Python 3",
   "language": "python",
   "name": "python3"
  },
  "language_info": {
   "codemirror_mode": {
    "name": "ipython",
    "version": 3
   },
   "file_extension": ".py",
   "mimetype": "text/x-python",
   "name": "python",
   "nbconvert_exporter": "python",
   "pygments_lexer": "ipython3",
   "version": "3.8.0"
  }
 },
 "nbformat": 4,
 "nbformat_minor": 1
}
