{
 "cells": [
  {
   "cell_type": "markdown",
   "metadata": {},
   "source": [
    "**Docker Toolbox**\n",
    "\n",
    "**Pyspark Initialization**"
   ]
  },
  {
   "cell_type": "code",
   "execution_count": 5,
   "metadata": {},
   "outputs": [],
   "source": [
    "import pyspark \n",
    "sc = pyspark.SparkContext('local[*]')"
   ]
  },
  {
   "cell_type": "markdown",
   "metadata": {},
   "source": [
    "**Getting working directory**"
   ]
  },
  {
   "cell_type": "code",
   "execution_count": 25,
   "metadata": {},
   "outputs": [
    {
     "data": {
      "text/plain": [
       "'/home/jovyan'"
      ]
     },
     "execution_count": 25,
     "metadata": {},
     "output_type": "execute_result"
    }
   ],
   "source": [
    "import os\n",
    "os.getcwd()"
   ]
  },
  {
   "cell_type": "markdown",
   "metadata": {},
   "source": [
    "**Loading data**"
   ]
  },
  {
   "cell_type": "code",
   "execution_count": 24,
   "metadata": {},
   "outputs": [
    {
     "name": "stdout",
     "output_type": "stream",
     "text": [
      "CPU times: user 1.87 ms, sys: 25 µs, total: 1.89 ms\n",
      "Wall time: 56.8 ms\n"
     ]
    }
   ],
   "source": [
    "%%time\n",
    "rdd = sc.textFile('/home/jovyan/work/data/*.csv.bz2')\n"
   ]
  },
  {
   "cell_type": "code",
   "execution_count": 26,
   "metadata": {},
   "outputs": [
    {
     "data": {
      "text/plain": [
       "['Year,Month,DayofMonth,DayOfWeek,DepTime,CRSDepTime,ArrTime,CRSArrTime,UniqueCarrier,FlightNum,TailNum,ActualElapsedTime,CRSElapsedTime,AirTime,ArrDelay,DepDelay,Origin,Dest,Distance,TaxiIn,TaxiOut,Cancelled,CancellationCode,Diverted,CarrierDelay,WeatherDelay,NASDelay,SecurityDelay,LateAircraftDelay',\n",
       " '2006,1,11,3,743,745,1024,1018,US,343,N657AW,281,273,223,6,-2,ATL,PHX,1587,45,13,0,,0,0,0,0,0,0',\n",
       " '2006,1,11,3,1053,1053,1313,1318,US,613,N834AW,260,265,214,-5,0,ATL,PHX,1587,27,19,0,,0,0,0,0,0,0']"
      ]
     },
     "execution_count": 26,
     "metadata": {},
     "output_type": "execute_result"
    }
   ],
   "source": [
    "rdd.take(3)"
   ]
  },
  {
   "cell_type": "markdown",
   "metadata": {},
   "source": [
    "**Getting Total Counts**"
   ]
  },
  {
   "cell_type": "code",
   "execution_count": 27,
   "metadata": {},
   "outputs": [
    {
     "data": {
      "text/plain": [
       "123534991"
      ]
     },
     "execution_count": 27,
     "metadata": {},
     "output_type": "execute_result"
    }
   ],
   "source": [
    "rdd.count()"
   ]
  },
  {
   "cell_type": "markdown",
   "metadata": {},
   "source": [
    "**Removing Header**"
   ]
  },
  {
   "cell_type": "code",
   "execution_count": 28,
   "metadata": {},
   "outputs": [
    {
     "data": {
      "text/plain": [
       "['2006,1,11,3,743,745,1024,1018,US,343,N657AW,281,273,223,6,-2,ATL,PHX,1587,45,13,0,,0,0,0,0,0,0',\n",
       " '2006,1,11,3,1053,1053,1313,1318,US,613,N834AW,260,265,214,-5,0,ATL,PHX,1587,27,19,0,,0,0,0,0,0,0']"
      ]
     },
     "execution_count": 28,
     "metadata": {},
     "output_type": "execute_result"
    }
   ],
   "source": [
    "header = rdd.first()\n",
    "rdd2=rdd.filter(lambda line: line != header)\n",
    "rdd2.take(2)"
   ]
  },
  {
   "cell_type": "markdown",
   "metadata": {},
   "source": [
    "**Implementing Mapreduce**"
   ]
  },
  {
   "cell_type": "code",
   "execution_count": 31,
   "metadata": {},
   "outputs": [
    {
     "data": {
      "text/plain": [
       "['US', 'US', 'US', 'US', 'US', 'US', 'US', 'US', 'US', 'US']"
      ]
     },
     "execution_count": 31,
     "metadata": {},
     "output_type": "execute_result"
    }
   ],
   "source": [
    "rdd3= rdd2.map(lambda x: x.split(',')[8])\n",
    "rdd3.take(10)"
   ]
  },
  {
   "cell_type": "code",
   "execution_count": 32,
   "metadata": {},
   "outputs": [],
   "source": [
    "rdd4=rdd3.map(lambda a:(a,1)).reduceByKey(lambda a,b: a+b)"
   ]
  },
  {
   "cell_type": "markdown",
   "metadata": {},
   "source": [
    "**Total number of UniqueCarrier**"
   ]
  },
  {
   "cell_type": "code",
   "execution_count": 33,
   "metadata": {},
   "outputs": [
    {
     "data": {
      "text/plain": [
       "[('MQ', 3954895),\n",
       " ('PI', 873957),\n",
       " ('XE', 2350309),\n",
       " ('AQ', 154381),\n",
       " ('AA', 14984647),\n",
       " ('PS', 83617),\n",
       " ('AS', 2878021),\n",
       " ('DL', 16547870),\n",
       " ('UA', 13299817),\n",
       " ('FL', 1265138),\n",
       " ('NW', 10292627),\n",
       " ('DH', 693047),\n",
       " ('EA', 919785),\n",
       " ('HA', 274265),\n",
       " ('F9', 336958),\n",
       " ('WN', 15976022),\n",
       " ('PA (1)', 316167),\n",
       " ('US', 14075530),\n",
       " ('OO', 3090853),\n",
       " ('CO', 8145788),\n",
       " ('HP', 3636682),\n",
       " ('OH', 1464176),\n",
       " ('TZ', 208420),\n",
       " ('B6', 811341),\n",
       " ('ML (1)', 70622),\n",
       " ('YV', 854056),\n",
       " ('EV', 1697172),\n",
       " ('TW', 3757747),\n",
       " ('9E', 521059)]"
      ]
     },
     "execution_count": 33,
     "metadata": {},
     "output_type": "execute_result"
    }
   ],
   "source": [
    "rdd4.take(30)"
   ]
  },
  {
   "cell_type": "markdown",
   "metadata": {},
   "source": [
    "**Through Dataframe Implementation**"
   ]
  },
  {
   "cell_type": "code",
   "execution_count": 34,
   "metadata": {},
   "outputs": [],
   "source": [
    "import pyspark\n",
    "from pyspark.sql import SparkSession"
   ]
  },
  {
   "cell_type": "code",
   "execution_count": 36,
   "metadata": {},
   "outputs": [],
   "source": [
    "spark = SparkSession.builder \\\n",
    "    .master(\"local[*]\") \\\n",
    "    .appName(\"docker_Spark\") \\\n",
    "    .getOrCreate()"
   ]
  },
  {
   "cell_type": "markdown",
   "metadata": {},
   "source": [
    "**Reading Data**"
   ]
  },
  {
   "cell_type": "code",
   "execution_count": 37,
   "metadata": {},
   "outputs": [],
   "source": [
    "DF = spark.read.csv('/home/jovyan/work/data/*.csv.bz2', header=\"true\", inferSchema=\"true\")"
   ]
  },
  {
   "cell_type": "markdown",
   "metadata": {},
   "source": [
    "**Total Counts of UniqueCarrier**"
   ]
  },
  {
   "cell_type": "code",
   "execution_count": 38,
   "metadata": {},
   "outputs": [
    {
     "data": {
      "text/plain": [
       "[Row(UniqueCarrier='9E', count=521059),\n",
       " Row(UniqueCarrier='AA', count=14984647),\n",
       " Row(UniqueCarrier='AQ', count=154381),\n",
       " Row(UniqueCarrier='AS', count=2878021),\n",
       " Row(UniqueCarrier='B6', count=811341),\n",
       " Row(UniqueCarrier='CO', count=8145788),\n",
       " Row(UniqueCarrier='DH', count=693047),\n",
       " Row(UniqueCarrier='DL', count=16547870),\n",
       " Row(UniqueCarrier='EA', count=919785),\n",
       " Row(UniqueCarrier='EV', count=1697172),\n",
       " Row(UniqueCarrier='F9', count=336958),\n",
       " Row(UniqueCarrier='FL', count=1265138),\n",
       " Row(UniqueCarrier='HA', count=274265),\n",
       " Row(UniqueCarrier='HP', count=3636682),\n",
       " Row(UniqueCarrier='ML (1)', count=70622),\n",
       " Row(UniqueCarrier='MQ', count=3954895),\n",
       " Row(UniqueCarrier='NW', count=10292627),\n",
       " Row(UniqueCarrier='OH', count=1464176),\n",
       " Row(UniqueCarrier='OO', count=3090853),\n",
       " Row(UniqueCarrier='PA (1)', count=316167),\n",
       " Row(UniqueCarrier='PI', count=873957),\n",
       " Row(UniqueCarrier='PS', count=83617),\n",
       " Row(UniqueCarrier='TW', count=3757747),\n",
       " Row(UniqueCarrier='TZ', count=208420),\n",
       " Row(UniqueCarrier='UA', count=13299817),\n",
       " Row(UniqueCarrier='US', count=14075530),\n",
       " Row(UniqueCarrier='WN', count=15976022),\n",
       " Row(UniqueCarrier='XE', count=2350309),\n",
       " Row(UniqueCarrier='YV', count=854056)]"
      ]
     },
     "execution_count": 38,
     "metadata": {},
     "output_type": "execute_result"
    }
   ],
   "source": [
    "sorted(DF.groupBy(['UniqueCarrier']).count().collect())"
   ]
  }
 ],
 "metadata": {
  "kernelspec": {
   "display_name": "Python 3",
   "language": "python",
   "name": "python3"
  },
  "language_info": {
   "codemirror_mode": {
    "name": "ipython",
    "version": 3
   },
   "file_extension": ".py",
   "mimetype": "text/x-python",
   "name": "python",
   "nbconvert_exporter": "python",
   "pygments_lexer": "ipython3",
   "version": "3.8.0"
  }
 },
 "nbformat": 4,
 "nbformat_minor": 2
}
